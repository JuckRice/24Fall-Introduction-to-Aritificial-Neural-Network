{
  "cells": [
    {
      "cell_type": "code",
      "execution_count": 1,
      "metadata": {
        "id": "GArTXeOGl0EA"
      },
      "outputs": [],
      "source": [
        "# prompt: Implement a NN that adds two bits (a0 and b0) and outputs the sum (a0+b0 = c1c0)\n",
        "# use pytorch\n",
        "\n",
        "import torch\n",
        "import torch.nn as nn\n",
        "\n",
        "# Define the neural network model\n",
        "class AdderNN(nn.Module):\n",
        "  def __init__(self):\n",
        "    super(AdderNN, self).__init__()\n",
        "    self.fc1 = nn.Linear(2, 3)  # Input: 2 bits, Output: 3 neurons\n",
        "    # Q. how many parameters does self.fc1 have? 6 + 3 = 9 parameters\n",
        "    # Q. in other words, how many bytes are required to store \"self.fc1 \" => 9 * 4 bytes (fp32)\n",
        "    # Random -- LLMs\n",
        "    # GPT2 was around 100M ~ 1B => (fp32) 4 bytes * 10^9 (1G) = 4GB\n",
        "    # GPT3 was around 100B parameters => 400GB\n",
        "    # GPT4 unknown // Llama3 500B parameters => 2TB memory => 1TB (fp16) => (INT6, INT4, INT3, INT2) => 125GB (INT2)\n",
        "    # (fp16) 16 bits / parameter = norm\n",
        "    self.fc2 = nn.Linear(3, 2)  # Input: 3 neurons, Output: 2 bits (sum)\n",
        "    # Q. how many params? 3 * 2 + 2 = 8 parameters\n",
        "    self.relu = torch.nn.ReLU()\n",
        "\n",
        "  def forward(self, x): # [MOST IMPORTANT] the NN is defined here\n",
        "    h = self.relu(self.fc1(x)) # x is the input , h is the hidden activations\n",
        "    y = (self.fc2(h) > 0).float() # h is the hidden activations, y is the final output\n",
        "    return y\n",
        "\n",
        "# Create the model\n",
        "model = AdderNN()\n"
      ]
    },
    {
      "cell_type": "markdown",
      "metadata": {
        "id": "k70CmznxvZd5"
      },
      "source": []
    },
    {
      "cell_type": "code",
      "execution_count": 2,
      "metadata": {
        "colab": {
          "base_uri": "https://localhost:8080/"
        },
        "id": "PqZigxZ1uDug",
        "outputId": "9fc5e27b-f7b4-45aa-83b2-1ab9287399a7"
      },
      "outputs": [
        {
          "data": {
            "text/plain": [
              "AdderNN(\n",
              "  (fc1): Linear(in_features=2, out_features=3, bias=True)\n",
              "  (fc2): Linear(in_features=3, out_features=2, bias=True)\n",
              "  (relu): ReLU()\n",
              ")"
            ]
          },
          "execution_count": 2,
          "metadata": {},
          "output_type": "execute_result"
        }
      ],
      "source": [
        "model"
      ]
    },
    {
      "cell_type": "markdown",
      "metadata": {
        "id": "ktCdw3XzwEgY"
      },
      "source": [
        "We want to add a + b = c1c0\n",
        "\n",
        "c1 = 1 ( a + b >= 2 ) = step(ReLU( a + b - 1.5 ))\n",
        "c0 = 1 ( a + b = 1 ) = step(ReLU( a + b - 0.5 ) - 2 * ReLU( a + b - 1.5))"
      ]
    },
    {
      "cell_type": "code",
      "execution_count": 3,
      "metadata": {
        "colab": {
          "base_uri": "https://localhost:8080/"
        },
        "id": "SPMnd6Ijvsvg",
        "outputId": "084ed14a-fb42-41fe-9998-b4c060faa226"
      },
      "outputs": [
        {
          "data": {
            "text/plain": [
              "tensor([[-0.5941,  0.6577],\n",
              "        [-0.1492,  0.3492],\n",
              "        [ 0.1747,  0.1888]])"
            ]
          },
          "execution_count": 3,
          "metadata": {},
          "output_type": "execute_result"
        }
      ],
      "source": [
        "model.fc1.weight.data"
      ]
    },
    {
      "cell_type": "code",
      "execution_count": 4,
      "metadata": {
        "id": "fEMs3regw9pX"
      },
      "outputs": [],
      "source": [
        "model.fc1.weight.data = torch.Tensor([[1, 1], [1, 1], [1, 1]])\n",
        "model.fc1.bias.data = torch.Tensor([-1.5, -0.5, -1.5])\n",
        "model.fc2.weight.data = torch.Tensor([[1, 0, 0], [0, 1, -2]])\n",
        "model.fc2.bias.data = torch.Tensor([0, 0])"
      ]
    },
    {
      "cell_type": "code",
      "execution_count": 5,
      "metadata": {
        "id": "bfoiMX6buKm3"
      },
      "outputs": [],
      "source": [
        "x = torch.Tensor([[0,0], [0,1], [1, 0], [1,1]]) # batch size =1 , the only input is [1,0]"
      ]
    },
    {
      "cell_type": "code",
      "execution_count": 6,
      "metadata": {
        "colab": {
          "base_uri": "https://localhost:8080/"
        },
        "id": "Hex7KEApumhW",
        "outputId": "03dd1636-4841-482b-9c4b-3814a3b3dbfc"
      },
      "outputs": [
        {
          "data": {
            "text/plain": [
              "tensor([[0., 0.],\n",
              "        [0., 1.],\n",
              "        [0., 1.],\n",
              "        [1., 1.]])"
            ]
          },
          "execution_count": 6,
          "metadata": {},
          "output_type": "execute_result"
        }
      ],
      "source": [
        "model(x) # all correct!"
      ]
    }
  ],
  "metadata": {
    "colab": {
      "provenance": []
    },
    "kernelspec": {
      "display_name": "base",
      "language": "python",
      "name": "python3"
    },
    "language_info": {
      "codemirror_mode": {
        "name": "ipython",
        "version": 3
      },
      "file_extension": ".py",
      "mimetype": "text/x-python",
      "name": "python",
      "nbconvert_exporter": "python",
      "pygments_lexer": "ipython3",
      "version": "3.12.4"
    }
  },
  "nbformat": 4,
  "nbformat_minor": 0
}
