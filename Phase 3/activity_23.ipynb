{
 "cells": [
  {
   "cell_type": "code",
   "execution_count": 1,
   "metadata": {
    "id": "oe7a42n7sZg1"
   },
   "outputs": [],
   "source": [
    "# 1 byte per pixel per channel (why? 256 values => 2^8)\n",
    "# 3 bytes per pixel (why? RGB)\n",
    "# 256 x 256 images: 3 * 2^16 = 3 * 65536 = 196608 bytes = 196KB\n",
    "\n",
    "# BMP"
   ]
  },
  {
   "cell_type": "code",
   "execution_count": 2,
   "metadata": {
    "id": "8O2PTzSi1VpH"
   },
   "outputs": [],
   "source": [
    "import torch"
   ]
  },
  {
   "cell_type": "code",
   "execution_count": 3,
   "metadata": {
    "id": "pcmtYHUl1h-p"
   },
   "outputs": [],
   "source": [
    "import torch.nn as nn\n",
    "import torch.nn.functional as F\n",
    "\n",
    "class LeNet(nn.Module):\n",
    "    def __init__(self):\n",
    "        super(LeNet, self).__init__() # initialization\n",
    "        # size of the input: B x 1 x 28 x 28 images (1 ch, 28 x 28)\n",
    "        self.conv1 = nn.Conv2d(1, 6, 5, padding=2) # 1 in ch, 6 out ch, 5x5 kernel, padding 2\n",
    "        # size of the hidden act: B x 6 x 28 x 28\n",
    "        # after 2x2 pooling with stride 2: B x 6 x 14 x 14\n",
    "        self.conv2 = nn.Conv2d(6, 16, 5) # 6 in ch, 16 out ch, 5x5 kernel\n",
    "        # size of the hidden act: B x 16 x 10 x 10\n",
    "        # after 2x2 pooling with stride 2: B x 16 x 5 x 5 => 400\n",
    "        self.fc1   = nn.Linear(400, 120)\n",
    "        # after fc1, B x 120\n",
    "        self.fc2   = nn.Linear(120, 84)\n",
    "        # after fc2, B x 84\n",
    "        self.fc3   = nn.Linear(84, 10)\n",
    "        # after fc3, B x 10\n",
    "\n",
    "    def forward(self, x): # connecting all these pieces\n",
    "        x = F.max_pool2d(F.relu(self.conv1(x)), 2, 2)\n",
    "        x = F.max_pool2d(F.relu(self.conv2(x)), 2, 2)\n",
    "        # B x 16 x 5 x 5\n",
    "        # => B x 400\n",
    "        x = x.view(-1, 400)\n",
    "        x = F.relu(self.fc1(x))\n",
    "        x = F.relu(self.fc2(x))\n",
    "        x = self.fc3(x)\n",
    "        return x"
   ]
  },
  {
   "cell_type": "code",
   "execution_count": 4,
   "metadata": {
    "id": "VkfMIpePsXh_"
   },
   "outputs": [],
   "source": [
    "le = LeNet()"
   ]
  },
  {
   "cell_type": "code",
   "execution_count": 5,
   "metadata": {
    "colab": {
     "base_uri": "https://localhost:8080/"
    },
    "id": "kLGFOrfTvJkt",
    "outputId": "0b583504-b2df-42ab-9c76-3f119be12848"
   },
   "outputs": [
    {
     "ename": "NameError",
     "evalue": "name 'images' is not defined",
     "output_type": "error",
     "traceback": [
      "\u001b[1;31m---------------------------------------------------------------------------\u001b[0m",
      "\u001b[1;31mNameError\u001b[0m                                 Traceback (most recent call last)",
      "Cell \u001b[1;32mIn[5], line 1\u001b[0m\n\u001b[1;32m----> 1\u001b[0m le\u001b[38;5;241m.\u001b[39mconv1(images)\u001b[38;5;241m.\u001b[39mshape\n",
      "\u001b[1;31mNameError\u001b[0m: name 'images' is not defined"
     ]
    }
   ],
   "source": [
    "le.conv1(images).shape"
   ]
  },
  {
   "cell_type": "code",
   "execution_count": null,
   "metadata": {
    "colab": {
     "base_uri": "https://localhost:8080/"
    },
    "id": "k-fStevlvWtz",
    "outputId": "b35952ac-5636-4fe6-c293-cd9f01b265d8"
   },
   "outputs": [
    {
     "data": {
      "text/plain": [
       "torch.Size([64, 6, 28, 28])"
      ]
     },
     "execution_count": 57,
     "metadata": {},
     "output_type": "execute_result"
    }
   ],
   "source": [
    "F.relu(le.conv1(images)).shape"
   ]
  },
  {
   "cell_type": "code",
   "execution_count": null,
   "metadata": {
    "colab": {
     "base_uri": "https://localhost:8080/"
    },
    "id": "925eT4rova0r",
    "outputId": "f71ebcf8-4c43-43a3-ed81-80370a4cd7ec"
   },
   "outputs": [
    {
     "data": {
      "text/plain": [
       "torch.Size([64, 6, 14, 14])"
      ]
     },
     "execution_count": 61,
     "metadata": {},
     "output_type": "execute_result"
    }
   ],
   "source": [
    "F.max_pool2d(F.relu(le.conv1(images)), 2, 2).shape"
   ]
  },
  {
   "cell_type": "code",
   "execution_count": null,
   "metadata": {
    "id": "mI5ptpX2v_LJ"
   },
   "outputs": [],
   "source": [
    "z = F.max_pool2d(F.relu(le.conv2(F.max_pool2d(F.relu(le.conv1(images)), 2, 2))), 2, 2)"
   ]
  },
  {
   "cell_type": "code",
   "execution_count": null,
   "metadata": {
    "colab": {
     "base_uri": "https://localhost:8080/"
    },
    "id": "lKfC7liYwLUU",
    "outputId": "e3856b0d-bd18-46ba-8be7-dec7cdead0f6"
   },
   "outputs": [
    {
     "data": {
      "text/plain": [
       "torch.Size([64, 16, 5, 5])"
      ]
     },
     "execution_count": 64,
     "metadata": {},
     "output_type": "execute_result"
    }
   ],
   "source": [
    "z.shape"
   ]
  },
  {
   "cell_type": "code",
   "execution_count": null,
   "metadata": {
    "colab": {
     "base_uri": "https://localhost:8080/"
    },
    "id": "yQLheoTawMj9",
    "outputId": "d4d55ac9-6e92-42ff-8166-1726204d1d33"
   },
   "outputs": [
    {
     "data": {
      "text/plain": [
       "torch.Size([64, 400])"
      ]
     },
     "execution_count": 66,
     "metadata": {},
     "output_type": "execute_result"
    }
   ],
   "source": [
    "z.view(-1, 400).shape"
   ]
  },
  {
   "cell_type": "code",
   "execution_count": null,
   "metadata": {
    "colab": {
     "base_uri": "https://localhost:8080/"
    },
    "id": "VycMzrSRu0SO",
    "outputId": "83597505-bbb9-43b7-e1f7-3205611724e1"
   },
   "outputs": [
    {
     "data": {
      "text/plain": [
       "torch.Size([64, 10])"
      ]
     },
     "execution_count": 54,
     "metadata": {},
     "output_type": "execute_result"
    }
   ],
   "source": [
    "le(images).shape"
   ]
  },
  {
   "cell_type": "code",
   "execution_count": null,
   "metadata": {
    "id": "irRqr2vgu0Uq"
   },
   "outputs": [],
   "source": []
  },
  {
   "cell_type": "code",
   "execution_count": null,
   "metadata": {
    "id": "pUpnQ7wnu0Wp"
   },
   "outputs": [],
   "source": []
  },
  {
   "cell_type": "code",
   "execution_count": null,
   "metadata": {
    "id": "Pq9xDwacu0YT"
   },
   "outputs": [],
   "source": []
  },
  {
   "cell_type": "code",
   "execution_count": null,
   "metadata": {
    "colab": {
     "base_uri": "https://localhost:8080/"
    },
    "id": "wysFZU4usZ9T",
    "outputId": "6c2540b1-dbce-4e6a-b0d9-24513da61557"
   },
   "outputs": [
    {
     "data": {
      "text/plain": [
       "torch.Size([1, 5, 5])"
      ]
     },
     "execution_count": 36,
     "metadata": {},
     "output_type": "execute_result"
    }
   ],
   "source": [
    "le.conv1.weight[0].shape"
   ]
  },
  {
   "cell_type": "code",
   "execution_count": null,
   "metadata": {
    "colab": {
     "base_uri": "https://localhost:8080/"
    },
    "id": "3xMwgeGzsbHY",
    "outputId": "0225f04d-773d-48c5-93a3-68e610e8e224"
   },
   "outputs": [
    {
     "data": {
      "text/plain": [
       "torch.Size([6, 5, 5])"
      ]
     },
     "execution_count": 37,
     "metadata": {},
     "output_type": "execute_result"
    }
   ],
   "source": [
    "le.conv2.weight[0].shape"
   ]
  },
  {
   "cell_type": "code",
   "execution_count": null,
   "metadata": {
    "colab": {
     "base_uri": "https://localhost:8080/"
    },
    "id": "6DAnsah6s2Hu",
    "outputId": "51dac318-d74b-42f8-e194-78b1a05367fa"
   },
   "outputs": [
    {
     "data": {
      "text/plain": [
       "torch.Size([6, 5, 5])"
      ]
     },
     "execution_count": 38,
     "metadata": {},
     "output_type": "execute_result"
    }
   ],
   "source": [
    "le.conv2.weight[15].shape"
   ]
  },
  {
   "cell_type": "code",
   "execution_count": null,
   "metadata": {
    "colab": {
     "base_uri": "https://localhost:8080/"
    },
    "id": "Alidm-bxs_Yh",
    "outputId": "b39c8f8d-084d-4df9-d9ab-bbda4f0f2d17"
   },
   "outputs": [
    {
     "data": {
      "text/plain": [
       "torch.Size([6])"
      ]
     },
     "execution_count": 41,
     "metadata": {},
     "output_type": "execute_result"
    }
   ],
   "source": [
    "le.conv1.bias.shape"
   ]
  },
  {
   "cell_type": "code",
   "execution_count": null,
   "metadata": {
    "colab": {
     "base_uri": "https://localhost:8080/"
    },
    "id": "4vgczebqtEOn",
    "outputId": "f12f052f-d12a-4b2a-a94c-f87cfa8132a3"
   },
   "outputs": [
    {
     "data": {
      "text/plain": [
       "torch.Size([16])"
      ]
     },
     "execution_count": 42,
     "metadata": {},
     "output_type": "execute_result"
    }
   ],
   "source": [
    "le.conv2.bias.shape"
   ]
  },
  {
   "cell_type": "code",
   "execution_count": null,
   "metadata": {
    "colab": {
     "base_uri": "https://localhost:8080/"
    },
    "id": "PxdTlHbbtH0Y",
    "outputId": "4527f9a8-a9f1-44a7-eb41-cba6083b2048"
   },
   "outputs": [
    {
     "name": "stdout",
     "output_type": "stream",
     "text": [
      "torch.Size([64, 1, 28, 28])\n",
      "torch.Size([64])\n"
     ]
    }
   ],
   "source": [
    "from torchvision import datasets, transforms\n",
    "\n",
    "# Load MNIST dataset\n",
    "mnist_data = datasets.MNIST(root='./data', train=True, download=True, transform=transforms.ToTensor())\n",
    "data_loader = torch.utils.data.DataLoader(mnist_data, batch_size=64, shuffle=True)\n",
    "# Example usage: Accessing the first batch\n",
    "images, labels = next(iter(data_loader))\n",
    "print(images.shape)  # Output: torch.Size([64, 1, 28, 28])\n",
    "print(labels.shape)  # Output: torch.Size([64])\n"
   ]
  },
  {
   "cell_type": "code",
   "execution_count": null,
   "metadata": {
    "colab": {
     "base_uri": "https://localhost:8080/",
     "height": 430
    },
    "id": "ZQWUgH4duAtQ",
    "outputId": "340d34fd-f5c7-44f5-a660-e3e4fbc5e854"
   },
   "outputs": [
    {
     "data": {
      "image/png": "[encoded data removed]",
      "text/plain": [
       "<Figure size 640x480 with 1 Axes>"
      ]
     },
     "metadata": {},
     "output_type": "display_data"
    }
   ],
   "source": [
    "import matplotlib.pyplot as plt\n",
    "import numpy as np\n",
    "image_np = images[0].detach().numpy() # convert back to numpy\n",
    "if image_np.shape[0] == 1: # getting rid of the first channel\n",
    "    image_np = image_np[0]\n",
    "plt.imshow(image_np, cmap='gray') # Use 'gray' colormap for grayscale images\n",
    "plt.show()\n"
   ]
  },
  {
   "cell_type": "code",
   "execution_count": null,
   "metadata": {
    "colab": {
     "base_uri": "https://localhost:8080/"
    },
    "id": "Dm6O0hh-uSb2",
    "outputId": "6301b1c3-4b49-4d5d-d282-096332f1f40c"
   },
   "outputs": [
    {
     "data": {
      "text/plain": [
       "tensor(3)"
      ]
     },
     "execution_count": 51,
     "metadata": {},
     "output_type": "execute_result"
    }
   ],
   "source": [
    "labels[0]"
   ]
  },
  {
   "cell_type": "code",
   "execution_count": null,
   "metadata": {
    "id": "2JANe3irtp-n"
   },
   "outputs": [],
   "source": [
    "for i in range(100):\n",
    "  while True:\n",
    "    try:\n",
    "        images, labels = next(iter(data_loader))\n",
    "        print(\"Images shape:\", images.shape)\n",
    "        print(\"Labels shape:\", labels.shape)\n",
    "\n",
    "    except StopIteration:\n",
    "        # End of dataset\n",
    "        break"
   ]
  }
 ],
 "metadata": {
  "colab": {
   "provenance": []
  },
  "kernelspec": {
   "display_name": "base",
   "language": "python",
   "name": "python3"
  },
  "language_info": {
   "codemirror_mode": {
    "name": "ipython",
    "version": 3
   },
   "file_extension": ".py",
   "mimetype": "text/x-python",
   "name": "python",
   "nbconvert_exporter": "python",
   "pygments_lexer": "ipython3",
   "version": "3.12.4"
  }
 },
 "nbformat": 4,
 "nbformat_minor": 0
}
